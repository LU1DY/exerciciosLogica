{
 "cells": [
  {
   "cell_type": "code",
   "execution_count": 176,
   "id": "9254d0d3",
   "metadata": {},
   "outputs": [],
   "source": [
    "class Musica:\n",
    "    def __init__(self, nome):\n",
    "        self.nome = nome\n",
    "        self.proximo = None\n",
    "        self.anterior = None"
   ]
  },
  {
   "cell_type": "code",
   "execution_count": null,
   "id": "0756c97b",
   "metadata": {},
   "outputs": [],
   "source": [
    "class Playlist:\n",
    "    def __init__(self):\n",
    "        self.primeiro = None\n",
    "        self.ultimo = None\n",
    "        self.atual = None\n",
    "        \n",
    "    def adicionar_musica(self, nome):\n",
    "        nova_musica = Musica(nome)\n",
    "\n",
    "        if self.primeiro is None:\n",
    "            self.primeiro = nova_musica\n",
    "            nova_musica.proximo = self.primeiro\n",
    "            nova_musica.anterior = self.ultimo\n",
    "            self.ultimo = nova_musica\n",
    "            self.atual = nova_musica\n",
    "            self.primeiro.anterior = self.ultimo\n",
    "        else:\n",
    "            atual = self.primeiro\n",
    "            while atual.proximo != self.primeiro:\n",
    "                atual = atual.proximo\n",
    "            self.ultimo.proximo = nova_musica\n",
    "            nova_musica.anterior = atual\n",
    "            self.ultimo = nova_musica\n",
    "            nova_musica.proximo = self.primeiro\n",
    "            self.primeiro.anterior = self.ultimo\n",
    "\n",
    "\n",
    "    def mostrar_musica_atual(self):\n",
    "        print(self.atual.nome)\n",
    "    \n",
    "    def proxima(self):\n",
    "        if self.atual:\n",
    "            self.atual = self.atual.proximo\n",
    "            self.mostrar_musica_atual()\n",
    "        else:\n",
    "            print(\"Playlist vazia\")\n",
    "    \n",
    "    def anterior(self):\n",
    "        if self.atual:\n",
    "            self.atual = self.atual.anterior\n",
    "            self.mostrar_musica_atual()\n",
    "        else:\n",
    "            print('Playlist vazia')\n",
    "    \n"
   ]
  },
  {
   "cell_type": "code",
   "execution_count": 178,
   "id": "473d6603",
   "metadata": {},
   "outputs": [],
   "source": [
    "playlist = Playlist()"
   ]
  },
  {
   "cell_type": "code",
   "execution_count": 179,
   "id": "cab8dfe1",
   "metadata": {},
   "outputs": [],
   "source": [
    "playlist.adicionar_musica('Future Days - Pearl Jam')\n",
    "playlist.adicionar_musica('Whisky a go-go - Roupa Nova')\n",
    "playlist.adicionar_musica('Sem medo eu vou - Frei Gilson')\n",
    "playlist.adicionar_musica('Don`t stop believin - Jorney')"
   ]
  },
  {
   "cell_type": "code",
   "execution_count": 180,
   "id": "a05d649e",
   "metadata": {},
   "outputs": [
    {
     "name": "stdout",
     "output_type": "stream",
     "text": [
      "Future Days - Pearl Jam\n"
     ]
    }
   ],
   "source": [
    "playlist.mostrar_musica_atual()"
   ]
  },
  {
   "cell_type": "code",
   "execution_count": 200,
   "id": "8caf88ed",
   "metadata": {},
   "outputs": [
    {
     "name": "stdout",
     "output_type": "stream",
     "text": [
      "Sem medo eu vou - Frei Gilson\n"
     ]
    }
   ],
   "source": [
    "playlist.proxima()"
   ]
  },
  {
   "cell_type": "code",
   "execution_count": 199,
   "id": "72cf4819",
   "metadata": {},
   "outputs": [
    {
     "name": "stdout",
     "output_type": "stream",
     "text": [
      "Whisky a go-go - Roupa Nova\n"
     ]
    }
   ],
   "source": [
    "playlist.anterior()"
   ]
  }
 ],
 "metadata": {
  "kernelspec": {
   "display_name": "Python 3",
   "language": "python",
   "name": "python3"
  },
  "language_info": {
   "codemirror_mode": {
    "name": "ipython",
    "version": 3
   },
   "file_extension": ".py",
   "mimetype": "text/x-python",
   "name": "python",
   "nbconvert_exporter": "python",
   "pygments_lexer": "ipython3",
   "version": "3.12.2"
  }
 },
 "nbformat": 4,
 "nbformat_minor": 5
}
